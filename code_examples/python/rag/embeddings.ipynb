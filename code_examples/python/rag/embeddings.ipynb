{
 "cells": [
  {
   "cell_type": "code",
   "execution_count": 5,
   "metadata": {},
   "outputs": [],
   "source": [
    "from langchain_community.vectorstores import Pinecone\n",
    "from langchain_community.document_loaders import DirectoryLoader, TextLoader\n",
    "from langchain_pinecone import PineconeVectorStore\n",
    "from langchain_openai import OpenAIEmbeddings\n",
    "from langchain_text_splitters import RecursiveCharacterTextSplitter\n",
    "\n"
   ]
  },
  {
   "cell_type": "code",
   "execution_count": 2,
   "metadata": {},
   "outputs": [
    {
     "name": "stdout",
     "output_type": "stream",
     "text": [
      "Found 21 letters\n"
     ]
    }
   ],
   "source": [
    "\n",
    "loader = DirectoryLoader(\"./\", glob=\"**/*.txt\", loader_cls=TextLoader)\n",
    "docs = loader.load()\n",
    "\n",
    "print(f\"Found {len(docs)} letters\")\n"
   ]
  },
  {
   "cell_type": "code",
   "execution_count": 6,
   "metadata": {},
   "outputs": [],
   "source": [
    "# Split documents into chunks\n",
    "text_splitter = RecursiveCharacterTextSplitter(\n",
    "    chunk_size=1000,\n",
    "    chunk_overlap=200,\n",
    "    length_function=len,\n",
    ")\n",
    "splits = text_splitter.split_documents(docs)"
   ]
  },
  {
   "cell_type": "code",
   "execution_count": 7,
   "metadata": {},
   "outputs": [],
   "source": [
    "\n",
    "embedding = OpenAIEmbeddings(model='text-embedding-3-small')\n",
    "docsearch = PineconeVectorStore.from_documents(splits, embedding, index_name='berkshire-hathaway')\n"
   ]
  },
  {
   "cell_type": "code",
   "execution_count": 8,
   "metadata": {},
   "outputs": [
    {
     "data": {
      "text/plain": [
       "langchain_pinecone.vectorstores.PineconeVectorStore"
      ]
     },
     "execution_count": 8,
     "metadata": {},
     "output_type": "execute_result"
    }
   ],
   "source": [
    "type(docsearch)"
   ]
  },
  {
   "cell_type": "code",
   "execution_count": 9,
   "metadata": {},
   "outputs": [
    {
     "data": {
      "text/plain": [
       "[Document(id='e8a7da9c-b1a8-4b0a-995d-7bffddb89e23', metadata={'source': 'letters/1989.txt'}, page_content=\"I continued to note these qualities for the next 52 years as \\nCoke blanketed the world. During this period, however, I \\ncarefully avoided buying even a single share, instead allocating \\nmajor portions of my net worth to street railway companies, \\nwindmill manufacturers, anthracite producers, textile businesses, \\ntrading-stamp issuers, and the like. (If you think I'm making \\nthis up, I can supply the names.) Only in the summer of 1988 did \\nmy brain finally establish contact with my eyes.\\n\\n     What I then perceived was both clear and fascinating. After \\ndrifting somewhat in the 1970's, Coca-Cola had in 1981 become a \\nnew company with the move of Roberto Goizueta to CEO. Roberto, \\nalong with Don Keough, once my across-the-street neighbor in \\nOmaha, first rethought and focused the company's policies and \\nthen energetically carried them out. What was already the world's \\nmost ubiquitous product gained new momentum, with sales overseas \\nvirtually exploding.\")]"
      ]
     },
     "execution_count": 9,
     "metadata": {},
     "output_type": "execute_result"
    }
   ],
   "source": [
    "docsearch.similarity_search(query=\"Coke\",k=1)"
   ]
  }
 ],
 "metadata": {
  "kernelspec": {
   "display_name": ".venv",
   "language": "python",
   "name": "python3"
  },
  "language_info": {
   "codemirror_mode": {
    "name": "ipython",
    "version": 3
   },
   "file_extension": ".py",
   "mimetype": "text/x-python",
   "name": "python",
   "nbconvert_exporter": "python",
   "pygments_lexer": "ipython3",
   "version": "3.12.2"
  }
 },
 "nbformat": 4,
 "nbformat_minor": 2
}
